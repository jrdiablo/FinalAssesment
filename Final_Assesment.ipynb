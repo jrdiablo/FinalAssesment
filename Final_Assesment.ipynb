{
 "cells": [
  {
   "cell_type": "markdown",
   "id": "8e710e3f",
   "metadata": {},
   "source": [
    "## Data Science Tools and Ecosystem\n",
    "\n",
    "\n",
    "\n",
    "\n",
    "\n",
    "\n"
   ]
  },
  {
   "cell_type": "markdown",
   "id": "581715ee",
   "metadata": {},
   "source": [
    "## In this notebook, Data Science Tools and Ecosystem are summarized"
   ]
  },
  {
   "cell_type": "markdown",
   "id": "282a3741",
   "metadata": {},
   "source": [
    "*Objectives:*\n",
    "* Listing the languages used for Data Science.\n",
    "* Listing the libraries used for Data Science.\n",
    "* Making Ordered lists.\n",
    "* Making Table for listing tools used for Data Science.\n"
   ]
  },
  {
   "cell_type": "markdown",
   "id": "11fc1eb9",
   "metadata": {},
   "source": [
    "## Some of the popular languages that Data Scientists use are:\n",
    "1. Python\n",
    "2. Java\n",
    "3. C/C++\n",
    "4. R Programming"
   ]
  },
  {
   "cell_type": "markdown",
   "id": "40741e3e",
   "metadata": {},
   "source": [
    "## Some of the commonly used libraries used by Data Scientists include: \n",
    "1. Pandas\n",
    "2. NumPy\n",
    "3. Matplotlib\n",
    "4. Seaborn"
   ]
  },
  {
   "cell_type": "markdown",
   "id": "f646e5a6",
   "metadata": {},
   "source": [
    "|Data Science Tools|\n",
    "|------------------|\n",
    "|Python|\n",
    "|Apache Spark|\n",
    "|Hadoop|\n",
    "|Scala|   "
   ]
  },
  {
   "cell_type": "markdown",
   "id": "75e939ee",
   "metadata": {},
   "source": [
    "### Below are a few examples of evaluating arithmetic expressions in Python\n"
   ]
  },
  {
   "cell_type": "code",
   "execution_count": 15,
   "id": "781d10ac",
   "metadata": {},
   "outputs": [
    {
     "data": {
      "text/plain": [
       "17"
      ]
     },
     "execution_count": 15,
     "metadata": {},
     "output_type": "execute_result"
    }
   ],
   "source": [
    "(3*4)+5\n",
    "# This a simple arithmetic expression to mutiply then add integers.\n"
   ]
  },
  {
   "cell_type": "code",
   "execution_count": 16,
   "id": "a41733fd",
   "metadata": {},
   "outputs": [
    {
     "data": {
      "text/plain": [
       "3.3333333333333335"
      ]
     },
     "execution_count": 16,
     "metadata": {},
     "output_type": "execute_result"
    }
   ],
   "source": [
    "200/60\n",
    "# This will convert 200 minutes to hours by diving by 60"
   ]
  },
  {
   "cell_type": "markdown",
   "id": "b548b4c7",
   "metadata": {},
   "source": [
    "## Author\n",
    "Jitesh Rajpal"
   ]
  }
 ],
 "metadata": {
  "kernelspec": {
   "display_name": "Python 3 (ipykernel)",
   "language": "python",
   "name": "python3"
  },
  "language_info": {
   "codemirror_mode": {
    "name": "ipython",
    "version": 3
   },
   "file_extension": ".py",
   "mimetype": "text/x-python",
   "name": "python",
   "nbconvert_exporter": "python",
   "pygments_lexer": "ipython3",
   "version": "3.10.9"
  }
 },
 "nbformat": 4,
 "nbformat_minor": 5
}
